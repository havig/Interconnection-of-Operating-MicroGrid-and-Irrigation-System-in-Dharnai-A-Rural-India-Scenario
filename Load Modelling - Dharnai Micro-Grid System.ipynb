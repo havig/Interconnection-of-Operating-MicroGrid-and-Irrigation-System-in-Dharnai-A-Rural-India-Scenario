{
 "cells": [
  {
   "cell_type": "markdown",
   "metadata": {},
   "source": [
    "<h4><center>Ugly people can still do modelling</center><h4>"
   ]
  },
  {
   "cell_type": "code",
   "execution_count": 1,
   "metadata": {},
   "outputs": [],
   "source": [
    "import pandas as pd\n",
    "import array\n",
    "import random\n",
    "import numpy as np\n",
    "hi = array.array('d', [])\n",
    "f = open(\"D:/HI.txt\")\n",
    "for i in f:\n",
    "    hi.append(int(i))\n",
    "final_load = pd.DataFrame()"
   ]
  },
  {
   "cell_type": "code",
   "execution_count": 2,
   "metadata": {},
   "outputs": [],
   "source": [
    "def awake(day, hour):\n",
    "    fan_val = fan_rating * (random.uniform((hi[day*24+hour]-1) * 0.15, hi[day*24+hour]/5)) * no_fans\n",
    "    light_val = light_rating* random.uniform(0.25-hi[day*24+hour]/20, 0) * no_lights\n",
    "    tv_val = tv_rating * random.uniform(0,0.4) * no_tv\n",
    "    if day%7>3 and day%7<6:\n",
    "        fan_val+= fan_val*random.uniform(0, 0.2)\n",
    "        light_val+= light_val*random.uniform(0, 0.2)\n",
    "        tv_val += tv_val*random.uniform(0, 0.2)\n",
    "    return fan_val,light_val, tv_val"
   ]
  },
  {
   "cell_type": "code",
   "execution_count": 3,
   "metadata": {},
   "outputs": [],
   "source": [
    "def load(no_fans, no_light, no_tv):\n",
    "    for day in range(365): # 365 days \n",
    "        for hour in range(0,8):  # sleeping \n",
    "            fan.append(fan_rating * random.uniform((hi[day*24+hour]-1)/5, hi[day*24+hour]/5)* no_fans)\n",
    "            tv.append(0)\n",
    "            if hour == 8:\n",
    "                light.append(light_rating* random.uniform(1-hi[day*24+hour]/5, 0) * no_lights)\n",
    "            else:\n",
    "                light.append(0)\n",
    "        for hour in range(8,18):  # Solar Available and awake\n",
    "            fan_val, light_val, tv_val = awake(day, hour)\n",
    "            fan.append(fan_val)\n",
    "            light.append(light_val)\n",
    "            tv.append(tv_val)\n",
    "        for hour in range(18,24):  # Solar not available and not sleeping\n",
    "            fan.append(fan_rating * (random.uniform((hi[day*24+hour]-1)/5, hi[day*24+hour]/5))*no_fans)\n",
    "            light.append(light_rating * no_lights)\n",
    "            tv.append(tv_rating * random.uniform(0,0.8) * no_tv)"
   ]
  },
  {
   "cell_type": "code",
   "execution_count": 4,
   "metadata": {},
   "outputs": [],
   "source": [
    "fan_rating = 0.07\n",
    "light_rating = 0.02\n",
    "tv_rating = 0.12"
   ]
  },
  {
   "cell_type": "markdown",
   "metadata": {},
   "source": [
    "<h1><center>Colony 1</center></h1>"
   ]
  },
  {
   "cell_type": "code",
   "execution_count": 5,
   "metadata": {},
   "outputs": [],
   "source": [
    "fan = []\n",
    "light = []\n",
    "tv = []\n",
    "no_tv = 5\n",
    "no_fans = 80\n",
    "no_lights = 250"
   ]
  },
  {
   "cell_type": "code",
   "execution_count": 6,
   "metadata": {},
   "outputs": [],
   "source": [
    "load(no_fans, no_lights, no_tv)\n",
    "final_load [\"Colony1 fan\"] = fan\n",
    "final_load [\"Colony1 light\"] = light\n",
    "final_load [\"Colony1 tv\"] = tv"
   ]
  },
  {
   "cell_type": "code",
   "execution_count": 7,
   "metadata": {},
   "outputs": [],
   "source": [
    "load_col1 =[]\n",
    "for i in range(8760):\n",
    "    load_col1.append(fan[i] + light[i] + tv[i])\n",
    "f = open(\"D:/colony1.txt\",\"w+\")\n",
    "with open('D:/colony1.txt', 'w') as filehandle:\n",
    "    filehandle.writelines(\"%s\\n\" % place for place in load_col1)"
   ]
  },
  {
   "cell_type": "markdown",
   "metadata": {},
   "source": [
    "<h1><center>Colony 2</center></h1>"
   ]
  },
  {
   "cell_type": "code",
   "execution_count": 8,
   "metadata": {},
   "outputs": [],
   "source": [
    "no_fans = 80\n",
    "no_lights = 250\n",
    "no_tv = 5\n",
    "tv = []\n",
    "fan = []\n",
    "light = []"
   ]
  },
  {
   "cell_type": "code",
   "execution_count": 9,
   "metadata": {},
   "outputs": [],
   "source": [
    "load(no_fans, no_lights, no_tv)\n",
    "final_load [\"Colony2 fan\"] = pd.DataFrame(fan)\n",
    "final_load [\"Colony2 light\"] = pd.DataFrame(light)\n",
    "final_load [\"Colony2 tv\"] = pd.DataFrame(tv)"
   ]
  },
  {
   "cell_type": "code",
   "execution_count": 20,
   "metadata": {},
   "outputs": [],
   "source": [
    "load_col2 = []\n",
    "for i in range(8760):\n",
    "    load_col2.append(fan[i] + light[i] + tv[i])\n",
    "f = open(\"D:/colony2.txt\",\"w+\")\n",
    "with open('D:/colony2.txt', 'w') as filehandle:\n",
    "    filehandle.writelines(\"%s\\n\" % place for place in load_col2)"
   ]
  },
  {
   "cell_type": "markdown",
   "metadata": {},
   "source": [
    "<h1><center>Bungalow 1</center></h1>"
   ]
  },
  {
   "cell_type": "code",
   "execution_count": 12,
   "metadata": {},
   "outputs": [],
   "source": [
    "no_fans = 8\n",
    "no_lights = 20\n",
    "tv = []\n",
    "no_tv = 1\n",
    "fan = []\n",
    "light = []"
   ]
  },
  {
   "cell_type": "code",
   "execution_count": 13,
   "metadata": {},
   "outputs": [],
   "source": [
    "load(no_fans, no_lights, no_tv)\n",
    "final_load [\"Bungalow fan\"] = pd.DataFrame(fan)\n",
    "final_load [\"Bungalow light\"] = pd.DataFrame(light)\n",
    "final_load [\"Bungalow tv\"] = pd.DataFrame(tv)"
   ]
  },
  {
   "cell_type": "code",
   "execution_count": 21,
   "metadata": {},
   "outputs": [],
   "source": [
    "load_bun = []\n",
    "for i in range(8760):\n",
    "    load_bun.append(fan[i] + light[i] + tv[i])\n",
    "f = open(\"D:/bungalow.txt\",\"w+\")\n",
    "with open('D:/bungalow.txt', 'w') as filehandle:\n",
    "    filehandle.writelines(\"%s\\n\" % place for place in load_bun)"
   ]
  },
  {
   "cell_type": "markdown",
   "metadata": {},
   "source": [
    "<h1><center>School</center></h1"
   ]
  },
  {
   "cell_type": "code",
   "execution_count": 15,
   "metadata": {},
   "outputs": [],
   "source": [
    "no_fans = 30\n",
    "no_lights = 30\n",
    "load = []\n",
    "for day in range(365):\n",
    "    if day>100 and day <160: #Summer Holidays\n",
    "        for hour in range(0,24):\n",
    "            load.append(0)\n",
    "    else:\n",
    "        for hour in range (0, 8):\n",
    "            load.append(0)\n",
    "        for hour in range(8, 16):\n",
    "            fan_val = fan_rating * no_fans\n",
    "            light_val = light_rating * random.uniform(0.5, 1) * no_lights\n",
    "            load.append(fan_val + light_val)\n",
    "        for hour in range(16, 24):\n",
    "            load.append(0)"
   ]
  },
  {
   "cell_type": "code",
   "execution_count": 22,
   "metadata": {},
   "outputs": [],
   "source": [
    "final_load [\"School load\"] = pd.DataFrame(load)\n",
    "f = open(\"D:/school.txt\", \"w+\")\n",
    "with open('D:/school.txt', 'w') as filehandle:\n",
    "    filehandle.writelines(\"%s\\n\" % place for place in load)"
   ]
  },
  {
   "cell_type": "markdown",
   "metadata": {},
   "source": [
    "<h1><center>Health Care center</center></h1"
   ]
  },
  {
   "cell_type": "code",
   "execution_count": 17,
   "metadata": {},
   "outputs": [],
   "source": [
    "no_fans = 4\n",
    "no_lights = 6\n",
    "load = []\n",
    "for day in range(365):\n",
    "    for hour in range (0, 8):\n",
    "        load.append(0)\n",
    "    for hour in range(8, 18):\n",
    "        fan_val = fan_rating * no_fans\n",
    "        light_val = light_rating * random.uniform(0.5, 1) * no_lights\n",
    "        load.append(fan_val + light_val)\n",
    "    for hour in range(18, 24):\n",
    "        load.append(0)"
   ]
  },
  {
   "cell_type": "code",
   "execution_count": 23,
   "metadata": {},
   "outputs": [],
   "source": [
    "final_load [\"Health load\"] = pd.DataFrame(load)\n",
    "f = open(\"D:/health.txt\", \"w+\")\n",
    "with open('D:/health.txt', 'w') as filehandle:\n",
    "    filehandle.writelines(\"%s\\n\" % place for place in load)"
   ]
  },
  {
   "cell_type": "code",
   "execution_count": null,
   "metadata": {
    "scrolled": true
   },
   "outputs": [],
   "source": []
  }
 ],
 "metadata": {
  "kernelspec": {
   "display_name": "Python 3",
   "language": "python",
   "name": "python3"
  },
  "language_info": {
   "codemirror_mode": {
    "name": "ipython",
    "version": 3
   },
   "file_extension": ".py",
   "mimetype": "text/x-python",
   "name": "python",
   "nbconvert_exporter": "python",
   "pygments_lexer": "ipython3",
   "version": "3.7.1"
  }
 },
 "nbformat": 4,
 "nbformat_minor": 2
}
